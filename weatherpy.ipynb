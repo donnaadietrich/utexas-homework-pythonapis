{
 "cells": [
  {
   "cell_type": "code",
   "execution_count": 1,
   "metadata": {
    "collapsed": true
   },
   "outputs": [],
   "source": [
    "# ## WeatherPy\n",
    "\n",
    "# In this example, you'll be creating a Python script to visualize the weather of 500+ cities across the world of varying \n",
    "#  distance from the equator. To accomplish this, you'll be utilizing a [simple Python library]\n",
    "# (https://pypi.python.org/pypi/citipy), the [OpenWeatherMap API](https://openweathermap.org/api), and \n",
    "# a little common sense to create a representative model of weather across world cities.\n",
    "# * You may want to start this assignment by refreshing yourself on the [geographic coordinate system]\n",
    "# (http://desktop.arcgis.com/en/arcmap/10.3/guide-books/map-projections/about-geographic-coordinate-systems.htm)."
   ]
  },
  {
   "cell_type": "code",
   "execution_count": 2,
   "metadata": {},
   "outputs": [],
   "source": [
    "#dependencies\n",
    "import numpy as np\n",
    "import requests\n",
    "import pandas as pd\n",
    "import json\n",
    "from citipy import citipy\n",
    "from random import uniform\n",
    "import matplotlib.pyplot as plt\n",
    "from config import api_key"
   ]
  },
  {
   "cell_type": "code",
   "execution_count": 3,
   "metadata": {
    "collapsed": true
   },
   "outputs": [],
   "source": [
    "# * Next, spend the requisite time necessary to study the OpenWeatherMap API. Based on your initial study, you should be \n",
    "# able to answer  basic questions about the API: Where do you request the API key? Which Weather API in particular will you \n",
    "# need? What URL endpoints does it expect? What JSON structure does it respond with? Before you write a line of code, \n",
    "# you should be aiming to have a crystal clear understanding of your intended outcome.\n",
    "\n",
    "#http://api.openweathermap.org/data/2.5/forecast?id=524901&APPID={APIKEY}\n",
    "#api.openweathermap.org/data/2.5/weather?q={city name},{country code}\n",
    "#&units=metric"
   ]
  },
  {
   "cell_type": "code",
   "execution_count": 4,
   "metadata": {
    "collapsed": true
   },
   "outputs": [],
   "source": [
    "# * Though we've never worked with the [citipy Python library](https://pypi.python.org/pypi/citipy), push yourself to decipher \n",
    "# how it works, and why it might be relevant. Before you try to incorporate the library into your analysis, start by creating \n",
    "# simple test cases outside your main script to confirm that you are using it correctly. Too often, when introduced to a new \n",
    "# library, students get bogged down by the most minor of errors -- spending hours investigating their entire code -- when, in \n",
    "# fact, a simple and focused test would have shown their basic utilization of the library was wrong from the start. Don't let \n",
    "# this be you!"
   ]
  },
  {
   "cell_type": "code",
   "execution_count": 5,
   "metadata": {
    "collapsed": true
   },
   "outputs": [],
   "source": [
    "# * Part of our expectation in this challenge is that you will use critical thinking skills to understand how and why we're \n",
    "# recommending the tools we are. What is Citipy for? Why would you use it in conjunction with the OpenWeatherMap API? How would \n",
    "# you do so?"
   ]
  },
  {
   "cell_type": "code",
   "execution_count": 6,
   "metadata": {
    "collapsed": true
   },
   "outputs": [],
   "source": [
    "# * In building your script, pay attention to the cities you are using in your query pool. Are you getting coverage of the full \n",
    "# gamut of latitudes and longitudes? Or are you simply choosing 500 cities concentrated in one region of the world? Even if you \n",
    "# were a geographic genius, simply rattling 500 cities based on your human selection would create a biased dataset. Be thinking \n",
    "# of how you should counter this. (Hint: Consider the full range of latitudes).\n",
    "cities_df = pd.DataFrame()\n",
    "cities_df[\"Latitude\"] = [np.random.uniform(-90, 90) for x in range(1500)]\n",
    "cities_df[\"Longitude\"] = [np.random.uniform(-180, 180) for x in range(1500)]\n",
    "cities_df[\"City\"] = \"\"\n",
    "cities_df[\"Country\"] = \"\""
   ]
  },
  {
   "cell_type": "code",
   "execution_count": 7,
   "metadata": {},
   "outputs": [
    {
     "data": {
      "text/html": [
       "<div>\n",
       "<style>\n",
       "    .dataframe thead tr:only-child th {\n",
       "        text-align: right;\n",
       "    }\n",
       "\n",
       "    .dataframe thead th {\n",
       "        text-align: left;\n",
       "    }\n",
       "\n",
       "    .dataframe tbody tr th {\n",
       "        vertical-align: top;\n",
       "    }\n",
       "</style>\n",
       "<table border=\"1\" class=\"dataframe\">\n",
       "  <thead>\n",
       "    <tr style=\"text-align: right;\">\n",
       "      <th></th>\n",
       "      <th>Latitude</th>\n",
       "      <th>Longitude</th>\n",
       "      <th>City</th>\n",
       "      <th>Country</th>\n",
       "    </tr>\n",
       "  </thead>\n",
       "  <tbody>\n",
       "    <tr>\n",
       "      <th>0</th>\n",
       "      <td>-3.208523</td>\n",
       "      <td>157.614455</td>\n",
       "      <td>kieta</td>\n",
       "      <td>pg</td>\n",
       "    </tr>\n",
       "    <tr>\n",
       "      <th>1</th>\n",
       "      <td>73.420672</td>\n",
       "      <td>41.425350</td>\n",
       "      <td>ostrovnoy</td>\n",
       "      <td>ru</td>\n",
       "    </tr>\n",
       "    <tr>\n",
       "      <th>2</th>\n",
       "      <td>-18.660599</td>\n",
       "      <td>105.058272</td>\n",
       "      <td>carnarvon</td>\n",
       "      <td>au</td>\n",
       "    </tr>\n",
       "    <tr>\n",
       "      <th>3</th>\n",
       "      <td>-79.675383</td>\n",
       "      <td>-26.911284</td>\n",
       "      <td>ushuaia</td>\n",
       "      <td>ar</td>\n",
       "    </tr>\n",
       "    <tr>\n",
       "      <th>4</th>\n",
       "      <td>-66.091413</td>\n",
       "      <td>-82.177406</td>\n",
       "      <td>punta arenas</td>\n",
       "      <td>cl</td>\n",
       "    </tr>\n",
       "  </tbody>\n",
       "</table>\n",
       "</div>"
      ],
      "text/plain": [
       "    Latitude   Longitude          City Country\n",
       "0  -3.208523  157.614455         kieta      pg\n",
       "1  73.420672   41.425350     ostrovnoy      ru\n",
       "2 -18.660599  105.058272     carnarvon      au\n",
       "3 -79.675383  -26.911284       ushuaia      ar\n",
       "4 -66.091413  -82.177406  punta arenas      cl"
      ]
     },
     "execution_count": 7,
     "metadata": {},
     "output_type": "execute_result"
    }
   ],
   "source": [
    "for index, row in cities_df.iterrows():\n",
    "    lat = row[\"Latitude\"]\n",
    "    lng = row[\"Longitude\"]\n",
    "    cities_df.set_value(index, \"City\", citipy.nearest_city(lat, lng).city_name)\n",
    "    cities_df.set_value(index, \"Country\", citipy.nearest_city(lat, lng).country_code)\n",
    "cities_df.head()"
   ]
  },
  {
   "cell_type": "code",
   "execution_count": 8,
   "metadata": {},
   "outputs": [
    {
     "data": {
      "text/plain": [
       "Latitude     603\n",
       "Longitude    603\n",
       "City         603\n",
       "Country      603\n",
       "dtype: int64"
      ]
     },
     "execution_count": 8,
     "metadata": {},
     "output_type": "execute_result"
    }
   ],
   "source": [
    "cities_df = cities_df.drop_duplicates(\"City\")\n",
    "cities_df.count()\n"
   ]
  },
  {
   "cell_type": "code",
   "execution_count": 9,
   "metadata": {},
   "outputs": [
    {
     "data": {
      "text/html": [
       "<div>\n",
       "<style>\n",
       "    .dataframe thead tr:only-child th {\n",
       "        text-align: right;\n",
       "    }\n",
       "\n",
       "    .dataframe thead th {\n",
       "        text-align: left;\n",
       "    }\n",
       "\n",
       "    .dataframe tbody tr th {\n",
       "        vertical-align: top;\n",
       "    }\n",
       "</style>\n",
       "<table border=\"1\" class=\"dataframe\">\n",
       "  <thead>\n",
       "    <tr style=\"text-align: right;\">\n",
       "      <th></th>\n",
       "      <th>Latitude</th>\n",
       "      <th>Longitude</th>\n",
       "      <th>City</th>\n",
       "      <th>Country</th>\n",
       "      <th>Location</th>\n",
       "    </tr>\n",
       "  </thead>\n",
       "  <tbody>\n",
       "    <tr>\n",
       "      <th>0</th>\n",
       "      <td>-3.208523</td>\n",
       "      <td>157.614455</td>\n",
       "      <td>kieta</td>\n",
       "      <td>pg</td>\n",
       "      <td>kieta,pg</td>\n",
       "    </tr>\n",
       "    <tr>\n",
       "      <th>1</th>\n",
       "      <td>73.420672</td>\n",
       "      <td>41.425350</td>\n",
       "      <td>ostrovnoy</td>\n",
       "      <td>ru</td>\n",
       "      <td>ostrovnoy,ru</td>\n",
       "    </tr>\n",
       "    <tr>\n",
       "      <th>2</th>\n",
       "      <td>-18.660599</td>\n",
       "      <td>105.058272</td>\n",
       "      <td>carnarvon</td>\n",
       "      <td>au</td>\n",
       "      <td>carnarvon,au</td>\n",
       "    </tr>\n",
       "    <tr>\n",
       "      <th>3</th>\n",
       "      <td>-79.675383</td>\n",
       "      <td>-26.911284</td>\n",
       "      <td>ushuaia</td>\n",
       "      <td>ar</td>\n",
       "      <td>ushuaia,ar</td>\n",
       "    </tr>\n",
       "    <tr>\n",
       "      <th>4</th>\n",
       "      <td>-66.091413</td>\n",
       "      <td>-82.177406</td>\n",
       "      <td>punta arenas</td>\n",
       "      <td>cl</td>\n",
       "      <td>punta arenas,cl</td>\n",
       "    </tr>\n",
       "  </tbody>\n",
       "</table>\n",
       "</div>"
      ],
      "text/plain": [
       "    Latitude   Longitude          City Country         Location\n",
       "0  -3.208523  157.614455         kieta      pg         kieta,pg\n",
       "1  73.420672   41.425350     ostrovnoy      ru     ostrovnoy,ru\n",
       "2 -18.660599  105.058272     carnarvon      au     carnarvon,au\n",
       "3 -79.675383  -26.911284       ushuaia      ar       ushuaia,ar\n",
       "4 -66.091413  -82.177406  punta arenas      cl  punta arenas,cl"
      ]
     },
     "execution_count": 9,
     "metadata": {},
     "output_type": "execute_result"
    }
   ],
   "source": [
    "cities_df[\"Location\"] = cities_df.City.str.cat(cities_df.Country, sep=\",\")\n",
    "cities_df.head()   "
   ]
  },
  {
   "cell_type": "code",
   "execution_count": 10,
   "metadata": {},
   "outputs": [
    {
     "data": {
      "text/html": [
       "<div>\n",
       "<style>\n",
       "    .dataframe thead tr:only-child th {\n",
       "        text-align: right;\n",
       "    }\n",
       "\n",
       "    .dataframe thead th {\n",
       "        text-align: left;\n",
       "    }\n",
       "\n",
       "    .dataframe tbody tr th {\n",
       "        vertical-align: top;\n",
       "    }\n",
       "</style>\n",
       "<table border=\"1\" class=\"dataframe\">\n",
       "  <thead>\n",
       "    <tr style=\"text-align: right;\">\n",
       "      <th></th>\n",
       "      <th>Latitude</th>\n",
       "      <th>Longitude</th>\n",
       "      <th>City</th>\n",
       "      <th>Country</th>\n",
       "      <th>Location</th>\n",
       "      <th>Temperature</th>\n",
       "      <th>Humidity</th>\n",
       "      <th>Cloudiness</th>\n",
       "      <th>Wind Speed</th>\n",
       "    </tr>\n",
       "  </thead>\n",
       "  <tbody>\n",
       "    <tr>\n",
       "      <th>0</th>\n",
       "      <td>-3.208523</td>\n",
       "      <td>157.614455</td>\n",
       "      <td>kieta</td>\n",
       "      <td>pg</td>\n",
       "      <td>kieta,pg</td>\n",
       "      <td></td>\n",
       "      <td></td>\n",
       "      <td></td>\n",
       "      <td></td>\n",
       "    </tr>\n",
       "    <tr>\n",
       "      <th>1</th>\n",
       "      <td>73.420672</td>\n",
       "      <td>41.425350</td>\n",
       "      <td>ostrovnoy</td>\n",
       "      <td>ru</td>\n",
       "      <td>ostrovnoy,ru</td>\n",
       "      <td></td>\n",
       "      <td></td>\n",
       "      <td></td>\n",
       "      <td></td>\n",
       "    </tr>\n",
       "    <tr>\n",
       "      <th>2</th>\n",
       "      <td>-18.660599</td>\n",
       "      <td>105.058272</td>\n",
       "      <td>carnarvon</td>\n",
       "      <td>au</td>\n",
       "      <td>carnarvon,au</td>\n",
       "      <td></td>\n",
       "      <td></td>\n",
       "      <td></td>\n",
       "      <td></td>\n",
       "    </tr>\n",
       "    <tr>\n",
       "      <th>3</th>\n",
       "      <td>-79.675383</td>\n",
       "      <td>-26.911284</td>\n",
       "      <td>ushuaia</td>\n",
       "      <td>ar</td>\n",
       "      <td>ushuaia,ar</td>\n",
       "      <td></td>\n",
       "      <td></td>\n",
       "      <td></td>\n",
       "      <td></td>\n",
       "    </tr>\n",
       "    <tr>\n",
       "      <th>4</th>\n",
       "      <td>-66.091413</td>\n",
       "      <td>-82.177406</td>\n",
       "      <td>punta arenas</td>\n",
       "      <td>cl</td>\n",
       "      <td>punta arenas,cl</td>\n",
       "      <td></td>\n",
       "      <td></td>\n",
       "      <td></td>\n",
       "      <td></td>\n",
       "    </tr>\n",
       "  </tbody>\n",
       "</table>\n",
       "</div>"
      ],
      "text/plain": [
       "    Latitude   Longitude          City Country         Location Temperature  \\\n",
       "0  -3.208523  157.614455         kieta      pg         kieta,pg               \n",
       "1  73.420672   41.425350     ostrovnoy      ru     ostrovnoy,ru               \n",
       "2 -18.660599  105.058272     carnarvon      au     carnarvon,au               \n",
       "3 -79.675383  -26.911284       ushuaia      ar       ushuaia,ar               \n",
       "4 -66.091413  -82.177406  punta arenas      cl  punta arenas,cl               \n",
       "\n",
       "  Humidity Cloudiness Wind Speed  \n",
       "0                                 \n",
       "1                                 \n",
       "2                                 \n",
       "3                                 \n",
       "4                                 "
      ]
     },
     "execution_count": 10,
     "metadata": {},
     "output_type": "execute_result"
    }
   ],
   "source": [
    "cities_df[\"Temperature\"] = \"\"\n",
    "cities_df[\"Humidity\"] = \"\"\n",
    "cities_df[\"Cloudiness\"] = \"\"\n",
    "cities_df[\"Wind Speed\"] = \"\"\n",
    "cities_df.head()"
   ]
  },
  {
   "cell_type": "code",
   "execution_count": 11,
   "metadata": {},
   "outputs": [],
   "source": [
    "for index, row in cities_df.iterrows():\n",
    "    locations = row[\"Location\"]\n",
    "    "
   ]
  },
  {
   "cell_type": "code",
   "execution_count": 23,
   "metadata": {},
   "outputs": [
    {
     "data": {
      "text/plain": [
       "'http://api.openweathermap.org/data/2.5/weather?appid=7cf0c44cbce71e0a4903db0f100ff61e&units=imperial&q='"
      ]
     },
     "execution_count": 23,
     "metadata": {},
     "output_type": "execute_result"
    }
   ],
   "source": [
    "url=\"http://api.openweathermap.org/data/2.5/weather?\"\n",
    "units = \"imperial\"\n",
    "\n",
    "query_url = url +\"appid=\" + api_key + \"&units=\" + units + \"&q=\"\n"
   ]
  },
  {
   "cell_type": "code",
   "execution_count": 25,
   "metadata": {},
   "outputs": [
    {
     "data": {
      "text/plain": [
       "'http://api.openweathermap.org/data/2.5/weather?appid=7cf0c44cbce71e0a4903db0f100ff61e&units=imperial&q='"
      ]
     },
     "execution_count": 25,
     "metadata": {},
     "output_type": "execute_result"
    }
   ],
   "source": [
    "weather_data = []\n",
    "\n",
    "for location in locations:\n",
    "    response = requests.get(query_url + locations).json()\n",
    "    #weather_data.append(response)\n",
    "   \n",
    "response"
   ]
  },
  {
   "cell_type": "code",
   "execution_count": 14,
   "metadata": {},
   "outputs": [
    {
     "data": {
      "text/html": [
       "<div>\n",
       "<style>\n",
       "    .dataframe thead tr:only-child th {\n",
       "        text-align: right;\n",
       "    }\n",
       "\n",
       "    .dataframe thead th {\n",
       "        text-align: left;\n",
       "    }\n",
       "\n",
       "    .dataframe tbody tr th {\n",
       "        vertical-align: top;\n",
       "    }\n",
       "</style>\n",
       "<table border=\"1\" class=\"dataframe\">\n",
       "  <thead>\n",
       "    <tr style=\"text-align: right;\">\n",
       "      <th></th>\n",
       "      <th>Latitude</th>\n",
       "      <th>Longitude</th>\n",
       "      <th>City</th>\n",
       "      <th>Country</th>\n",
       "      <th>Location</th>\n",
       "      <th>Temperature</th>\n",
       "      <th>Humidity</th>\n",
       "      <th>Cloudiness</th>\n",
       "      <th>Wind Speed</th>\n",
       "    </tr>\n",
       "  </thead>\n",
       "  <tbody>\n",
       "    <tr>\n",
       "      <th>0</th>\n",
       "      <td>-3.208523</td>\n",
       "      <td>157.614455</td>\n",
       "      <td>kieta</td>\n",
       "      <td>pg</td>\n",
       "      <td>kieta,pg</td>\n",
       "      <td></td>\n",
       "      <td></td>\n",
       "      <td></td>\n",
       "      <td></td>\n",
       "    </tr>\n",
       "    <tr>\n",
       "      <th>1</th>\n",
       "      <td>73.420672</td>\n",
       "      <td>41.425350</td>\n",
       "      <td>ostrovnoy</td>\n",
       "      <td>ru</td>\n",
       "      <td>ostrovnoy,ru</td>\n",
       "      <td></td>\n",
       "      <td></td>\n",
       "      <td></td>\n",
       "      <td></td>\n",
       "    </tr>\n",
       "    <tr>\n",
       "      <th>2</th>\n",
       "      <td>-18.660599</td>\n",
       "      <td>105.058272</td>\n",
       "      <td>carnarvon</td>\n",
       "      <td>au</td>\n",
       "      <td>carnarvon,au</td>\n",
       "      <td></td>\n",
       "      <td></td>\n",
       "      <td></td>\n",
       "      <td></td>\n",
       "    </tr>\n",
       "    <tr>\n",
       "      <th>3</th>\n",
       "      <td>-79.675383</td>\n",
       "      <td>-26.911284</td>\n",
       "      <td>ushuaia</td>\n",
       "      <td>ar</td>\n",
       "      <td>ushuaia,ar</td>\n",
       "      <td></td>\n",
       "      <td></td>\n",
       "      <td></td>\n",
       "      <td></td>\n",
       "    </tr>\n",
       "    <tr>\n",
       "      <th>4</th>\n",
       "      <td>-66.091413</td>\n",
       "      <td>-82.177406</td>\n",
       "      <td>punta arenas</td>\n",
       "      <td>cl</td>\n",
       "      <td>punta arenas,cl</td>\n",
       "      <td></td>\n",
       "      <td></td>\n",
       "      <td></td>\n",
       "      <td></td>\n",
       "    </tr>\n",
       "  </tbody>\n",
       "</table>\n",
       "</div>"
      ],
      "text/plain": [
       "    Latitude   Longitude          City Country         Location Temperature  \\\n",
       "0  -3.208523  157.614455         kieta      pg         kieta,pg               \n",
       "1  73.420672   41.425350     ostrovnoy      ru     ostrovnoy,ru               \n",
       "2 -18.660599  105.058272     carnarvon      au     carnarvon,au               \n",
       "3 -79.675383  -26.911284       ushuaia      ar       ushuaia,ar               \n",
       "4 -66.091413  -82.177406  punta arenas      cl  punta arenas,cl               \n",
       "\n",
       "  Humidity Cloudiness Wind Speed  \n",
       "0                                 \n",
       "1                                 \n",
       "2                                 \n",
       "3                                 \n",
       "4                                 "
      ]
     },
     "execution_count": 14,
     "metadata": {},
     "output_type": "execute_result"
    }
   ],
   "source": [
    "cities_df.set_value(index, \"Temperature\", weather_data[0][\"main\"][\"temp\"])\n",
    "cities_df.set_value(index, \"Humidity\", weather_data[0][\"main\"][\"humidity\"])\n",
    "cities_df.set_value(index, \"Cloudiness\", weather_data[0][\"clouds\"][\"all\"])\n",
    "cities_df.set_value(index, \"Wind Speed\", weather_data[0][\"wind\"][\"speed\"])\n",
    "\n",
    "        \n",
    "cities_df.head()     "
   ]
  },
  {
   "cell_type": "code",
   "execution_count": 15,
   "metadata": {},
   "outputs": [
    {
     "data": {
      "text/html": [
       "<div>\n",
       "<style>\n",
       "    .dataframe thead tr:only-child th {\n",
       "        text-align: right;\n",
       "    }\n",
       "\n",
       "    .dataframe thead th {\n",
       "        text-align: left;\n",
       "    }\n",
       "\n",
       "    .dataframe tbody tr th {\n",
       "        vertical-align: top;\n",
       "    }\n",
       "</style>\n",
       "<table border=\"1\" class=\"dataframe\">\n",
       "  <thead>\n",
       "    <tr style=\"text-align: right;\">\n",
       "      <th></th>\n",
       "      <th>Latitude</th>\n",
       "      <th>Longitude</th>\n",
       "      <th>City</th>\n",
       "      <th>Country</th>\n",
       "      <th>Location</th>\n",
       "      <th>Temperature</th>\n",
       "      <th>Humidity</th>\n",
       "      <th>Cloudiness</th>\n",
       "      <th>Wind Speed</th>\n",
       "    </tr>\n",
       "  </thead>\n",
       "  <tbody>\n",
       "    <tr>\n",
       "      <th>0</th>\n",
       "      <td>-3.208523</td>\n",
       "      <td>157.614455</td>\n",
       "      <td>kieta</td>\n",
       "      <td>pg</td>\n",
       "      <td>kieta,pg</td>\n",
       "      <td></td>\n",
       "      <td></td>\n",
       "      <td></td>\n",
       "      <td></td>\n",
       "    </tr>\n",
       "    <tr>\n",
       "      <th>1</th>\n",
       "      <td>73.420672</td>\n",
       "      <td>41.425350</td>\n",
       "      <td>ostrovnoy</td>\n",
       "      <td>ru</td>\n",
       "      <td>ostrovnoy,ru</td>\n",
       "      <td></td>\n",
       "      <td></td>\n",
       "      <td></td>\n",
       "      <td></td>\n",
       "    </tr>\n",
       "    <tr>\n",
       "      <th>2</th>\n",
       "      <td>-18.660599</td>\n",
       "      <td>105.058272</td>\n",
       "      <td>carnarvon</td>\n",
       "      <td>au</td>\n",
       "      <td>carnarvon,au</td>\n",
       "      <td></td>\n",
       "      <td></td>\n",
       "      <td></td>\n",
       "      <td></td>\n",
       "    </tr>\n",
       "    <tr>\n",
       "      <th>3</th>\n",
       "      <td>-79.675383</td>\n",
       "      <td>-26.911284</td>\n",
       "      <td>ushuaia</td>\n",
       "      <td>ar</td>\n",
       "      <td>ushuaia,ar</td>\n",
       "      <td></td>\n",
       "      <td></td>\n",
       "      <td></td>\n",
       "      <td></td>\n",
       "    </tr>\n",
       "    <tr>\n",
       "      <th>4</th>\n",
       "      <td>-66.091413</td>\n",
       "      <td>-82.177406</td>\n",
       "      <td>punta arenas</td>\n",
       "      <td>cl</td>\n",
       "      <td>punta arenas,cl</td>\n",
       "      <td></td>\n",
       "      <td></td>\n",
       "      <td></td>\n",
       "      <td></td>\n",
       "    </tr>\n",
       "  </tbody>\n",
       "</table>\n",
       "</div>"
      ],
      "text/plain": [
       "    Latitude   Longitude          City Country         Location Temperature  \\\n",
       "0  -3.208523  157.614455         kieta      pg         kieta,pg               \n",
       "1  73.420672   41.425350     ostrovnoy      ru     ostrovnoy,ru               \n",
       "2 -18.660599  105.058272     carnarvon      au     carnarvon,au               \n",
       "3 -79.675383  -26.911284       ushuaia      ar       ushuaia,ar               \n",
       "4 -66.091413  -82.177406  punta arenas      cl  punta arenas,cl               \n",
       "\n",
       "  Humidity Cloudiness Wind Speed  \n",
       "0                                 \n",
       "1                                 \n",
       "2                                 \n",
       "3                                 \n",
       "4                                 "
      ]
     },
     "execution_count": 15,
     "metadata": {},
     "output_type": "execute_result"
    }
   ],
   "source": [
    "cities_df = cities_df.dropna()\n",
    "cities_df.head()"
   ]
  },
  {
   "cell_type": "code",
   "execution_count": 16,
   "metadata": {
    "collapsed": true
   },
   "outputs": [],
   "source": [
    "# Your objective is to build a series of scatter plots to showcase the following relationships:\n",
    "\n",
    "# * Temperature (F) vs. Latitude"
   ]
  },
  {
   "cell_type": "code",
   "execution_count": 17,
   "metadata": {
    "collapsed": true
   },
   "outputs": [],
   "source": [
    "# * Humidity (%) vs. Latitude"
   ]
  },
  {
   "cell_type": "code",
   "execution_count": 18,
   "metadata": {
    "collapsed": true
   },
   "outputs": [],
   "source": [
    "# * Cloudiness (%) vs. Latitude"
   ]
  },
  {
   "cell_type": "code",
   "execution_count": 19,
   "metadata": {
    "collapsed": true
   },
   "outputs": [],
   "source": [
    "# * Wind Speed (mph) vs. Latitude"
   ]
  },
  {
   "cell_type": "code",
   "execution_count": 20,
   "metadata": {
    "collapsed": true
   },
   "outputs": [],
   "source": [
    "# Your final notebook must:\n",
    "\n",
    "# * Randomly select **at least** 500 unique (non-repeat) cities based on latitude and longitude.\n",
    "# * Perform a weather check on each of the cities using a series of successive API calls.\n",
    "# * Include a print log of each city as it's being processed with the city number, city name, and requested URL.\n",
    "# * Save both a CSV of all data retrieved and png images for each scatter plot."
   ]
  },
  {
   "cell_type": "code",
   "execution_count": 21,
   "metadata": {
    "collapsed": true
   },
   "outputs": [],
   "source": [
    "# As final considerations:\n",
    "\n",
    "# * You must use Matplotlib to create your plots.\n",
    "# * You must include a written description of three observable trends based on the data.\n",
    "# * You must use proper labeling of your plots, including aspects like: Plot Titles (with date of analysis) and Axes Labels.\n",
    "# * You must include an exported markdown version of your Notebook called  `README.md` in your GitHub repository.\n",
    "# * See [Example Solution](WeatherPy_Example.pdf) for a reference on expected format."
   ]
  },
  {
   "cell_type": "code",
   "execution_count": 22,
   "metadata": {
    "collapsed": true
   },
   "outputs": [],
   "source": [
    "# ## Hints and Considerations\n",
    "\n",
    "# * Lastly, remember -- this is a challenging activity. Push yourself! If you complete this task, then you can safely say that \n",
    "# you've gained a strong mastery of the core foundations of data analytics and it will only go better from here. Good luck!"
   ]
  }
 ],
 "metadata": {
  "kernelspec": {
   "display_name": "Python 3",
   "language": "python",
   "name": "python3"
  },
  "language_info": {
   "codemirror_mode": {
    "name": "ipython",
    "version": 3
   },
   "file_extension": ".py",
   "mimetype": "text/x-python",
   "name": "python",
   "nbconvert_exporter": "python",
   "pygments_lexer": "ipython3",
   "version": "3.6.2"
  }
 },
 "nbformat": 4,
 "nbformat_minor": 2
}
