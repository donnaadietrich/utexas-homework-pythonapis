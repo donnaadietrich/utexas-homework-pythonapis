{
 "cells": [
  {
   "cell_type": "code",
   "execution_count": null,
   "metadata": {
    "collapsed": true
   },
   "outputs": [],
   "source": [
    "# ## WeatherPy\n",
    "\n",
    "# In this example, you'll be creating a Python script to visualize the weather of 500+ cities across the world of varying \n",
    "#  distance from the equator. To accomplish this, you'll be utilizing a [simple Python library]\n",
    "# (https://pypi.python.org/pypi/citipy), the [OpenWeatherMap API](https://openweathermap.org/api), and \n",
    "# a little common sense to create a representative model of weather across world cities.\n",
    "# * You may want to start this assignment by refreshing yourself on the [geographic coordinate system]\n",
    "# (http://desktop.arcgis.com/en/arcmap/10.3/guide-books/map-projections/about-geographic-coordinate-systems.htm)."
   ]
  },
  {
   "cell_type": "code",
   "execution_count": null,
   "metadata": {
    "collapsed": true
   },
   "outputs": [],
   "source": [
    "# * Next, spend the requisite time necessary to study the OpenWeatherMap API. Based on your initial study, you should be \n",
    "# able to answer  basic questions about the API: Where do you request the API key? Which Weather API in particular will you \n",
    "# need? What URL endpoints does it expect? What JSON structure does it respond with? Before you write a line of code, \n",
    "# you should be aiming to have a crystal clear understanding of your intended outcome."
   ]
  },
  {
   "cell_type": "code",
   "execution_count": null,
   "metadata": {
    "collapsed": true
   },
   "outputs": [],
   "source": [
    "# * Though we've never worked with the [citipy Python library](https://pypi.python.org/pypi/citipy), push yourself to decipher \n",
    "# how it works, and why it might be relevant. Before you try to incorporate the library into your analysis, start by creating \n",
    "# simple test cases outside your main script to confirm that you are using it correctly. Too often, when introduced to a new \n",
    "# library, students get bogged down by the most minor of errors -- spending hours investigating their entire code -- when, in \n",
    "# fact, a simple and focused test would have shown their basic utilization of the library was wrong from the start. Don't let \n",
    "# this be you!"
   ]
  },
  {
   "cell_type": "code",
   "execution_count": null,
   "metadata": {
    "collapsed": true
   },
   "outputs": [],
   "source": [
    "# * Part of our expectation in this challenge is that you will use critical thinking skills to understand how and why we're \n",
    "# recommending the tools we are. What is Citipy for? Why would you use it in conjunction with the OpenWeatherMap API? How would \n",
    "# you do so?"
   ]
  },
  {
   "cell_type": "code",
   "execution_count": null,
   "metadata": {
    "collapsed": true
   },
   "outputs": [],
   "source": [
    "# * In building your script, pay attention to the cities you are using in your query pool. Are you getting coverage of the full \n",
    "# gamut of latitudes and longitudes? Or are you simply choosing 500 cities concentrated in one region of the world? Even if you \n",
    "# were a geographic genius, simply rattling 500 cities based on your human selection would create a biased dataset. Be thinking \n",
    "# of how you should counter this. (Hint: Consider the full range of latitudes)."
   ]
  },
  {
   "cell_type": "code",
   "execution_count": null,
   "metadata": {
    "collapsed": true
   },
   "outputs": [],
   "source": [
    "# Your objective is to build a series of scatter plots to showcase the following relationships:\n",
    "\n",
    "# * Temperature (F) vs. Latitude"
   ]
  },
  {
   "cell_type": "code",
   "execution_count": null,
   "metadata": {
    "collapsed": true
   },
   "outputs": [],
   "source": [
    "# * Humidity (%) vs. Latitude"
   ]
  },
  {
   "cell_type": "code",
   "execution_count": null,
   "metadata": {
    "collapsed": true
   },
   "outputs": [],
   "source": [
    "# * Cloudiness (%) vs. Latitude"
   ]
  },
  {
   "cell_type": "code",
   "execution_count": null,
   "metadata": {
    "collapsed": true
   },
   "outputs": [],
   "source": [
    "# * Wind Speed (mph) vs. Latitude"
   ]
  },
  {
   "cell_type": "code",
   "execution_count": null,
   "metadata": {
    "collapsed": true
   },
   "outputs": [],
   "source": [
    "# Your final notebook must:\n",
    "\n",
    "# * Randomly select **at least** 500 unique (non-repeat) cities based on latitude and longitude.\n",
    "# * Perform a weather check on each of the cities using a series of successive API calls.\n",
    "# * Include a print log of each city as it's being processed with the city number, city name, and requested URL.\n",
    "# * Save both a CSV of all data retrieved and png images for each scatter plot."
   ]
  },
  {
   "cell_type": "code",
   "execution_count": null,
   "metadata": {
    "collapsed": true
   },
   "outputs": [],
   "source": [
    "# As final considerations:\n",
    "\n",
    "# * You must use Matplotlib to create your plots.\n",
    "# * You must include a written description of three observable trends based on the data.\n",
    "# * You must use proper labeling of your plots, including aspects like: Plot Titles (with date of analysis) and Axes Labels.\n",
    "# * You must include an exported markdown version of your Notebook called  `README.md` in your GitHub repository.\n",
    "# * See [Example Solution](WeatherPy_Example.pdf) for a reference on expected format."
   ]
  },
  {
   "cell_type": "code",
   "execution_count": null,
   "metadata": {
    "collapsed": true
   },
   "outputs": [],
   "source": [
    "# ## Hints and Considerations\n",
    "\n",
    "# * Lastly, remember -- this is a challenging activity. Push yourself! If you complete this task, then you can safely say that \n",
    "# you've gained a strong mastery of the core foundations of data analytics and it will only go better from here. Good luck!"
   ]
  }
 ],
 "metadata": {
  "kernelspec": {
   "display_name": "Python 3",
   "language": "python",
   "name": "python3"
  },
  "language_info": {
   "codemirror_mode": {
    "name": "ipython",
    "version": 3
   },
   "file_extension": ".py",
   "mimetype": "text/x-python",
   "name": "python",
   "nbconvert_exporter": "python",
   "pygments_lexer": "ipython3",
   "version": "3.6.2"
  }
 },
 "nbformat": 4,
 "nbformat_minor": 2
}
